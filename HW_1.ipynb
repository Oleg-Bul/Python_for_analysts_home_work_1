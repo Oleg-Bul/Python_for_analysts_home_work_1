{
 "cells": [
  {
   "cell_type": "markdown",
   "id": "a309c7e1",
   "metadata": {},
   "source": [
    "## Задача 1\n",
    "### На складе лежат разные фрукты в разном количестве.\n",
    "### Нужно написать функцию, которая на вход принимает любое количество названий фруктов и их количество, а возвращает общее количество фруктов на складе"
   ]
  },
  {
   "cell_type": "code",
   "execution_count": 1,
   "id": "24c2848b",
   "metadata": {},
   "outputs": [
    {
     "data": {
      "text/plain": [
       "{'apple': 35, 'banana': 30, 'pinneaple': 45}"
      ]
     },
     "execution_count": 1,
     "metadata": {},
     "output_type": "execute_result"
    }
   ],
   "source": [
    "d = dict(apple=35, banana=30, pinneaple=45)\n",
    "d"
   ]
  },
  {
   "cell_type": "code",
   "execution_count": 2,
   "id": "9a9e2612",
   "metadata": {},
   "outputs": [
    {
     "data": {
      "text/plain": [
       "110"
      ]
     },
     "execution_count": 2,
     "metadata": {},
     "output_type": "execute_result"
    }
   ],
   "source": [
    "sum_fruits = sum(d.values())\n",
    "sum_fruits"
   ]
  },
  {
   "cell_type": "markdown",
   "id": "51a90df4",
   "metadata": {},
   "source": [
    "## Задача 2\n",
    "### Дан список с затратами на рекламу. Но в данных есть ошибки, некоторые затраты имеют отрицательную величину. Удалите такие значения из списка и посчитайте суммарные затраты\n",
    "### [100, 125, -90, 345, 655, -1, 0, 200]\n",
    "### Используйте list comprehensions"
   ]
  },
  {
   "cell_type": "code",
   "execution_count": 3,
   "id": "726aad13",
   "metadata": {},
   "outputs": [
    {
     "data": {
      "text/plain": [
       "[100, 125, 345, 655, 200]"
      ]
     },
     "execution_count": 3,
     "metadata": {},
     "output_type": "execute_result"
    }
   ],
   "source": [
    "l = [100, 125, -90, 345, 655, -1, 0, 200]\n",
    "l_one = [n for n in l if n>0 == 0]\n",
    "l_one"
   ]
  },
  {
   "cell_type": "code",
   "execution_count": 4,
   "id": "fe04d3b5",
   "metadata": {},
   "outputs": [
    {
     "data": {
      "text/plain": [
       "1425"
      ]
     },
     "execution_count": 4,
     "metadata": {},
     "output_type": "execute_result"
    }
   ],
   "source": [
    "l_one_sum = sum(l_one)\n",
    "l_one_sum"
   ]
  },
  {
   "cell_type": "markdown",
   "id": "d92a4753",
   "metadata": {},
   "source": [
    "## Задача 3\n",
    "#### Даны два списка. Дата покупки ['2021-09-14', '2021-12-15', '2021-09-08', '2021-12-05', '2021-10-09', '2021-09-30', '2021-12-22', '2021-11-29', '2021-12-24', '2021-11-26', '2021-10-27', '2021-12-18', '2021-11-09', '2021-11-23', '2021-09-27', '2021-10-02', '2021-12-27', '2021-09-20', '2021-12-13', '2021-11-01', '2021-11-09', '2021-12-06', '2021-12-08', '2021-10-09', '2021-10-31', '2021-09-30', '2021-11-09', '2021-12-13', '2021-10-26', '2021-12-09'] Суммы покупок по датам [1270, 8413, 9028, 3703, 5739, 4095, 295, 4944, 5723, 3701, 4471, 651, 7037, 4274, 6275, 4988, 6930, 2971, 6592, 2004, 2822, 519, 3406, 2732, 5015, 2008, 316, 6333, 5700, 2887] 4.1 Найдите, какая выручка у компании в ноябре Используйте list comprehensions 4.2 Найдите выручку компании в зависимости от месяца Для этого напишите функцию, которая на вход принимает список с датами и список с выручкой, а на выходе словарь, где ключи - это месяцы, а значения - это выручка. Используйте аннотирование типов."
   ]
  },
  {
   "cell_type": "code",
   "execution_count": 5,
   "id": "d4de46a9",
   "metadata": {},
   "outputs": [],
   "source": [
    "import pandas as pd\n",
    "\n",
    "\n",
    "dt = ['2021-09-14', '2021-12-15', '2021-09-08', '2021-12-05', '2021-10-09', '2021-09-30', '2021-12-22', '2021-11-29', '2021-12-24', '2021-11-26', '2021-10-27', '2021-12-18', '2021-11-09', '2021-11-23', '2021-09-27', '2021-10-02', '2021-12-27', '2021-09-20', '2021-12-13', '2021-11-01', '2021-11-09', '2021-12-06', '2021-12-08', '2021-10-09', '2021-10-31', '2021-09-30', '2021-11-09', '2021-12-13', '2021-10-26', '2021-12-09']\n",
    "sm = [1270, 8413, 9028, 3703, 5739, 4095, 295, 4944, 5723, 3701, 4471, 651, 7037, 4274, 6275, 4988, 6930, 2971, 6592, 2004, 2822, 519, 3406, 2732, 5015, 2008, 316, 6333, 5700, 2887]\n"
   ]
  },
  {
   "cell_type": "code",
   "execution_count": 7,
   "id": "b1b19ddb",
   "metadata": {},
   "outputs": [],
   "source": [
    "df = pd.DataFrame({'dt': ['2021-09-14', '2021-12-15', '2021-09-08', '2021-12-05', '2021-10-09', '2021-09-30', '2021-12-22', '2021-11-29', '2021-12-24', '2021-11-26', '2021-10-27', '2021-12-18', '2021-11-09', '2021-11-23', '2021-09-27', '2021-10-02', '2021-12-27', '2021-09-20', '2021-12-13', '2021-11-01', '2021-11-09', '2021-12-06', '2021-12-08', '2021-10-09', '2021-10-31', '2021-09-30', '2021-11-09', '2021-12-13', '2021-10-26', '2021-12-09'],\n",
    "'sm': [1270, 8413, 9028, 3703, 5739, 4095, 295, 4944, 5723, 3701, 4471, 651, 7037, 4274, 6275, 4988, 6930, 2971, 6592, 2004, 2822, 519, 3406, 2732, 5015, 2008, 316, 6333, 5700, 2887]})\n"
   ]
  },
  {
   "cell_type": "code",
   "execution_count": 8,
   "id": "8a022e59",
   "metadata": {},
   "outputs": [
    {
     "name": "stdout",
     "output_type": "stream",
     "text": [
      "25098\n"
     ]
    }
   ],
   "source": [
    "df = pd.DataFrame(sm, index=pd.to_datetime(dt))\n",
    "print(df[df.index.month==11].sum()[0])"
   ]
  },
  {
   "cell_type": "code",
   "execution_count": 9,
   "id": "172870a6",
   "metadata": {},
   "outputs": [
    {
     "data": {
      "text/html": [
       "<div>\n",
       "<style scoped>\n",
       "    .dataframe tbody tr th:only-of-type {\n",
       "        vertical-align: middle;\n",
       "    }\n",
       "\n",
       "    .dataframe tbody tr th {\n",
       "        vertical-align: top;\n",
       "    }\n",
       "\n",
       "    .dataframe thead th {\n",
       "        text-align: right;\n",
       "    }\n",
       "</style>\n",
       "<table border=\"1\" class=\"dataframe\">\n",
       "  <thead>\n",
       "    <tr style=\"text-align: right;\">\n",
       "      <th></th>\n",
       "      <th>Sum</th>\n",
       "    </tr>\n",
       "    <tr>\n",
       "      <th>Month</th>\n",
       "      <th></th>\n",
       "    </tr>\n",
       "  </thead>\n",
       "  <tbody>\n",
       "    <tr>\n",
       "      <th>9</th>\n",
       "      <td>25647</td>\n",
       "    </tr>\n",
       "    <tr>\n",
       "      <th>10</th>\n",
       "      <td>28645</td>\n",
       "    </tr>\n",
       "    <tr>\n",
       "      <th>11</th>\n",
       "      <td>25098</td>\n",
       "    </tr>\n",
       "    <tr>\n",
       "      <th>12</th>\n",
       "      <td>45452</td>\n",
       "    </tr>\n",
       "  </tbody>\n",
       "</table>\n",
       "</div>"
      ],
      "text/plain": [
       "         Sum\n",
       "Month       \n",
       "9      25647\n",
       "10     28645\n",
       "11     25098\n",
       "12     45452"
      ]
     },
     "execution_count": 9,
     "metadata": {},
     "output_type": "execute_result"
    }
   ],
   "source": [
    "import datetime\n",
    "\n",
    "\n",
    "df = pd.DataFrame()\n",
    "df['Date'] = [datetime.datetime.strptime(i, '%Y-%m-%d') for i in dt]\n",
    "df['Sum'] = sm\n",
    "df['Month'] = pd.DatetimeIndex(df['Date']).month\n",
    "df.groupby('Month').sum()"
   ]
  },
  {
   "cell_type": "markdown",
   "id": "33eb767f",
   "metadata": {},
   "source": [
    "#### Выручка у компании в ноябре = 25098\n",
    "##### Выручка по месяцам:\n",
    "\n",
    "- 9 - 25647\n",
    "- 10 - 28645 \n",
    "- 11 - 25098\n",
    "- 12 - 45452"
   ]
  },
  {
   "cell_type": "code",
   "execution_count": null,
   "id": "30de2c6a",
   "metadata": {},
   "outputs": [],
   "source": []
  }
 ],
 "metadata": {
  "kernelspec": {
   "display_name": "Python 3 (ipykernel)",
   "language": "python",
   "name": "python3"
  },
  "language_info": {
   "codemirror_mode": {
    "name": "ipython",
    "version": 3
   },
   "file_extension": ".py",
   "mimetype": "text/x-python",
   "name": "python",
   "nbconvert_exporter": "python",
   "pygments_lexer": "ipython3",
   "version": "3.9.13"
  }
 },
 "nbformat": 4,
 "nbformat_minor": 5
}
